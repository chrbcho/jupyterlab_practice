{
 "cells": [
  {
   "cell_type": "markdown",
   "id": "31d88e69-c6ca-4233-8e14-2a6f4bb848cf",
   "metadata": {},
   "source": [
    "# Christine\n",
    "Notebook for assignment 7"
   ]
  },
  {
   "cell_type": "code",
   "execution_count": 1,
   "id": "28ed2b14-b0f3-48e0-b11c-b575fae71e9c",
   "metadata": {},
   "outputs": [
    {
     "name": "stdout",
     "output_type": "stream",
     "text": [
      "5.0\n"
     ]
    }
   ],
   "source": [
    "def compute_mean(list):\n",
    "    avg = sum(list)/len(list)\n",
    "    print (avg)\n",
    "\n",
    "compute_mean([2, 4, 6, 8])"
   ]
  },
  {
   "cell_type": "markdown",
   "id": "54bf5d74-204a-405d-ba98-848eb68211da",
   "metadata": {},
   "source": [
    "`compute_mean` calculates the mean value from a list of numbers\n",
    "\n",
    "$$\n",
    "\\bar{x}=\\frac{x_1 + x_2 + ... + x_n}{n}=\\frac{1}{n}\\bigg( \\sum_{i=1}^n x_i \\bigg)\n",
    "$$"
   ]
  }
 ],
 "metadata": {
  "kernelspec": {
   "display_name": "Python [conda env:new_env]",
   "language": "python",
   "name": "conda-env-new_env-py"
  },
  "language_info": {
   "codemirror_mode": {
    "name": "ipython",
    "version": 3
   },
   "file_extension": ".py",
   "mimetype": "text/x-python",
   "name": "python",
   "nbconvert_exporter": "python",
   "pygments_lexer": "ipython3",
   "version": "3.10.15"
  }
 },
 "nbformat": 4,
 "nbformat_minor": 5
}
